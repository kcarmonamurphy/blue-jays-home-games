{
 "cells": [
  {
   "cell_type": "markdown",
   "metadata": {
    "colab_type": "text",
    "id": "hIvP_opiZKuY"
   },
   "source": [
    "# Question 2 - Part 2: Analyse KSI Dataset against Jays Schedule\n",
    "#### Attempt to discover if there exists a correlation between Jays games letting out and an increase in vehicular accidents in a 5km radius around the Rogers Centre\n"
   ]
  },
  {
   "cell_type": "code",
   "execution_count": 1,
   "metadata": {
    "colab": {
     "base_uri": "https://localhost:8080/",
     "height": 105
    },
    "colab_type": "code",
    "id": "CuBiFbv46yf-",
    "outputId": "771c04e7-6ec1-4630-b9b7-5a541d1e4c97"
   },
   "outputs": [
    {
     "name": "stdout",
     "output_type": "stream",
     "text": [
      "Requirement already satisfied: haversine in /miniconda3/lib/python3.7/site-packages (2.1.1)\r\n"
     ]
    }
   ],
   "source": [
    "# Question 2\n",
    "# analyzing the impact of major sporting events of traffic accidents\n",
    "\n",
    "!pip install haversine\n",
    "\n",
    "import pandas as pd\n",
    "import numpy as np\n",
    "\n",
    "from haversine import haversine\n",
    "\n",
    "from string import Template\n",
    "from dateutil import parser\n",
    "from dateutil import relativedelta\n",
    "\n",
    "from datetime import datetime\n",
    "from datetime import timedelta\n",
    "\n",
    "TPS_KSI_CSV_PATH = \"https://opendata.arcgis.com/datasets/9f05c21dea4c40458264cb3f1e2362b8_0.csv?outSR=%7B%22latestWkid%22%3A3857%2C%22wkid%22%3A102100%7D&session=1523497917.1562243815\"\n",
    "BLUE_JAYS_CSV_PATH = \"https://gist.githubusercontent.com/kcarmonamurphy/fab52a15b01f07c36f1b8040a3d2cf5c/raw/54fc5d310d3090bce0ea3e6f264d782941d18a7e/toronto_blue_jays_home_game_scheduled_start_and_finish_times_2008_to_2018.csv\"\n",
    "\n",
    "ROGERS_CENTRE_LATITUDE = 43.638164114\n",
    "ROGERS_CENTRE_LONGITUDE = -79.386831786\n"
   ]
  },
  {
   "cell_type": "code",
   "execution_count": 2,
   "metadata": {
    "colab": {},
    "colab_type": "code",
    "id": "hjfuy--R66vM"
   },
   "outputs": [],
   "source": [
    "# read in data from TPS KSI dataset\n",
    "ksi_data = pd.read_csv(TPS_KSI_CSV_PATH)\n",
    "\n",
    "# read in blue jays data and coerce game start and game finish fields to datetime\n",
    "blue_jays_data = pd.read_csv(BLUE_JAYS_CSV_PATH)\n",
    "blue_jays_data.game_finish = pd.to_datetime(blue_jays_data.game_finish)\n",
    "blue_jays_data.game_start = pd.to_datetime(blue_jays_data.game_start)"
   ]
  },
  {
   "cell_type": "code",
   "execution_count": 3,
   "metadata": {
    "colab": {},
    "colab_type": "code",
    "id": "yig6L7se7q7R"
   },
   "outputs": [],
   "source": [
    "attendance_cuts = [\"low\", \"medium low\", \"medium high\", \"high\", \"very high\"]\n",
    "\n",
    "blue_jays_data['attendance_cut'] = pd.qcut(blue_jays_data['attendance'], q=len(attendance_cuts), labels=attendance_cuts)\n",
    "blue_jays_dict = {key: blue_jays_data.loc[value] for key, value in blue_jays_data.groupby(\"attendance_cut\").groups.items()}"
   ]
  },
  {
   "cell_type": "code",
   "execution_count": 4,
   "metadata": {
    "colab": {},
    "colab_type": "code",
    "id": "X0Gvmu7BiG5E"
   },
   "outputs": [],
   "source": [
    "def get_distance_from_rc(row):\n",
    "  accident_location = (row['LATITUDE'], row['LONGITUDE'])\n",
    "  rogers_centre_location = (ROGERS_CENTRE_LATITUDE, ROGERS_CENTRE_LONGITUDE)\n",
    "  \n",
    "  distance = haversine(accident_location, rogers_centre_location)\n",
    "  return distance"
   ]
  },
  {
   "cell_type": "code",
   "execution_count": 5,
   "metadata": {
    "colab": {},
    "colab_type": "code",
    "id": "BQo5AZyOmAIr"
   },
   "outputs": [],
   "source": [
    "def create_timestamp(row):\n",
    "  parsed_date = parser.parse(row['DATE'])\n",
    "  time = row['TIME']\n",
    "  hour = time // 100\n",
    "  minute = time % 100\n",
    "  \n",
    "  timestamp = datetime(parsed_date.year, parsed_date.month, parsed_date.day, hour, minute)\n",
    "  return timestamp"
   ]
  },
  {
   "cell_type": "code",
   "execution_count": 6,
   "metadata": {
    "colab": {},
    "colab_type": "code",
    "id": "fyU1JxWj3z3j"
   },
   "outputs": [],
   "source": [
    "def restrict_ksi_based_on_radius(ksi_data, radius):\n",
    "  ksi_data['distance_from_rc'] = ksi_data.apply(get_distance_from_rc, axis=1)\n",
    "  ksi_data['timestamp'] = ksi_data.apply(create_timestamp, axis=1)\n",
    "  ksi_cleaned = ksi_data.drop(['X', 'Y', 'DATE', 'TIME', 'Hour', 'YEAR'], axis=1)\n",
    "\n",
    "  restricted_ksi = ksi_cleaned[ksi_cleaned['distance_from_rc'] < radius]\n",
    "  return restricted_ksi"
   ]
  },
  {
   "cell_type": "code",
   "execution_count": 7,
   "metadata": {
    "colab": {},
    "colab_type": "code",
    "id": "rxRmqtr6Q7pN"
   },
   "outputs": [],
   "source": [
    "def restrict_ksi_based_on_time_lag(ksi_data, event_end_series, time_lag):\n",
    "  \n",
    "  # create identity Series based on index values of ksi_data\n",
    "  filter_arr = pd.Series(False, index=ksi_data.index)\n",
    "\n",
    "  for game_finish in event_end_series:\n",
    "    analysis_end = game_finish + timedelta(hours=time_lag)\n",
    "\n",
    "    # for the period after every game end, see if there are any accidents in ksi set\n",
    "    filter_arr |= ksi_data.timestamp.between(game_finish, analysis_end)\n",
    "    \n",
    "  restricted_ksi = ksi_data[filter_arr]\n",
    "  return restricted_ksi"
   ]
  },
  {
   "cell_type": "code",
   "execution_count": 8,
   "metadata": {
    "colab": {},
    "colab_type": "code",
    "id": "0ncPe9BP49EI"
   },
   "outputs": [],
   "source": [
    "def restrict_ksi(ksi_data, bj_attendance_category, radius, time_lag):\n",
    "  radius_restricted_ksi = restrict_ksi_based_on_radius(ksi_data, radius)\n",
    "  radius_and_time_lag_restricted_ksi = restrict_ksi_based_on_time_lag(\n",
    "      radius_restricted_ksi,\n",
    "      blue_jays_dict[bj_attendance_category].game_finish,\n",
    "      time_lag\n",
    "  )\n",
    "  return radius_and_time_lag_restricted_ksi"
   ]
  },
  {
   "cell_type": "markdown",
   "metadata": {
    "colab_type": "text",
    "id": "crlOjS8sNYmH"
   },
   "source": [
    "# Begin the analysis"
   ]
  },
  {
   "cell_type": "code",
   "execution_count": 9,
   "metadata": {
    "colab": {},
    "colab_type": "code",
    "id": "D5ntHgsp7l3l"
   },
   "outputs": [],
   "source": [
    "def graph_accidents_by_attendance_quintiles(radius, time_lag):\n",
    "  # this operation will take a while!\n",
    "  dataset = {attendance_level: restrict_ksi(ksi_data, attendance_level, radius, time_lag) for attendance_level in attendance_cuts}\n",
    "\n",
    "  num_accidents = {k: len(v) for (k,v) in dataset.items()}\n",
    "  num_accidents_df = pd.DataFrame(list(num_accidents.items()), columns=['Attendance', '# of Accidents'])\n",
    "  num_accidents_df.set_index('Attendance', inplace=True)\n",
    "\n",
    "  # plot the graph\n",
    "  num_accidents_df.plot.bar(title=\"Accidents by Attendance Quintile\")"
   ]
  },
  {
   "cell_type": "markdown",
   "metadata": {
    "colab_type": "text",
    "id": "2xihfoT-VDrc"
   },
   "source": [
    "### Graph 1 (time lag: 5 hours, radius: 5 kilometres)\n",
    "\n",
    "Shows that on games with high attendance, there was a higher number of accidents"
   ]
  },
  {
   "cell_type": "code",
   "execution_count": 12,
   "metadata": {
    "colab": {
     "base_uri": "https://localhost:8080/",
     "height": 351
    },
    "colab_type": "code",
    "id": "h1h7mw7eTuWr",
    "outputId": "9c1997db-5942-477a-f4be-0a88e6073aad"
   },
   "outputs": [
    {
     "data": {
      "image/png": "[encoded data removed]",
      "text/plain": [
       "<Figure size 432x288 with 1 Axes>"
      ]
     },
     "metadata": {
      "needs_background": "light"
     },
     "output_type": "display_data"
    }
   ],
   "source": [
    "TIME_LAG_IN_HOURS = 5\n",
    "RADIUS = 5\n",
    "\n",
    "# this will take a while to execute\n",
    "graph_accidents_by_attendance_quintiles(RADIUS, TIME_LAG_IN_HOURS)"
   ]
  },
  {
   "cell_type": "markdown",
   "metadata": {
    "colab_type": "text",
    "id": "9I0ReQRqVgKZ"
   },
   "source": [
    "### Graph 2 (time lag: 5 hours, radius: 3 kilometres)\n",
    "\n",
    "Shows that on games with medium attendance, there was a higher number of accidents"
   ]
  },
  {
   "cell_type": "code",
   "execution_count": 11,
   "metadata": {
    "colab": {
     "base_uri": "https://localhost:8080/",
     "height": 351
    },
    "colab_type": "code",
    "id": "pKC_UvxOT_cN",
    "outputId": "92e72a0a-9b04-41a2-ca0a-c50b99b794a4"
   },
   "outputs": [
    {
     "data": {
      "image/png": "[encoded data removed]",
      "text/plain": [
       "<Figure size 432x288 with 1 Axes>"
      ]
     },
     "metadata": {
      "needs_background": "light"
     },
     "output_type": "display_data"
    }
   ],
   "source": [
    "TIME_LAG_IN_HOURS = 5\n",
    "RADIUS = 3\n",
    "\n",
    "graph_accidents_by_attendance_quintiles(RADIUS, TIME_LAG_IN_HOURS)"
   ]
  },
  {
   "cell_type": "markdown",
   "metadata": {
    "colab_type": "text",
    "id": "t33EQkezVlPA"
   },
   "source": [
    "### Graph 3 (time lag: 2 hours, radius: 3 kilometres)\n",
    "\n",
    "Shows that overall, similar levels of accidents despite attendance"
   ]
  },
  {
   "cell_type": "code",
   "execution_count": 13,
   "metadata": {
    "colab": {
     "base_uri": "https://localhost:8080/",
     "height": 351
    },
    "colab_type": "code",
    "id": "yevsV82XUlyp",
    "outputId": "9816ffac-14c8-448c-da55-a73181e68cba"
   },
   "outputs": [
    {
     "data": {
      "image/png": "[encoded data removed]",
      "text/plain": [
       "<Figure size 432x288 with 1 Axes>"
      ]
     },
     "metadata": {
      "needs_background": "light"
     },
     "output_type": "display_data"
    }
   ],
   "source": [
    "TIME_LAG_IN_HOURS = 2\n",
    "RADIUS = 3\n",
    "\n",
    "graph_accidents_by_attendance_quintiles(RADIUS, TIME_LAG_IN_HOURS)"
   ]
  },
  {
   "cell_type": "code",
   "execution_count": 0,
   "metadata": {
    "colab": {},
    "colab_type": "code",
    "id": "fwxtgoTsPGQk"
   },
   "outputs": [],
   "source": []
  }
 ],
 "metadata": {
  "colab": {
   "collapsed_sections": [],
   "name": "Question 2, Part 2: Analyse KSI Dataset against Jays Schedule",
   "provenance": [],
   "version": "0.3.2"
  },
  "kernelspec": {
   "display_name": "Python 3",
   "language": "python",
   "name": "python3"
  },
  "language_info": {
   "codemirror_mode": {
    "name": "ipython",
    "version": 3
   },
   "file_extension": ".py",
   "mimetype": "text/x-python",
   "name": "python",
   "nbconvert_exporter": "python",
   "pygments_lexer": "ipython3",
   "version": "3.7.3"
  }
 },
 "nbformat": 4,
 "nbformat_minor": 1
}
